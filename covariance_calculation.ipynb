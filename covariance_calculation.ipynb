{
 "cells": [
  {
   "cell_type": "markdown",
   "metadata": {},
   "source": [
    "## Calculation the covariance between stocks?"
   ]
  },
  {
   "cell_type": "markdown",
   "metadata": {},
   "source": [
    "Calculate covariance between the stocks, X and Y using the following data. Assume the data as a sample.\n",
    "\n",
    "X = [5, 7, 8, 10, 12, 15] Y = [-4, 5, 10, 20, 70, 75]*\n",
    "\n",
    "    1) -25\n",
    "    2) 117.6\n",
    "    3) -117.6\n",
    "    ​4) 25\n",
    "\n",
    "*This concept and related Python notebooks are covered in Quantra’s online course on "
   ]
  },
  {
   "cell_type": "code",
   "execution_count": 1,
   "metadata": {},
   "outputs": [
    {
     "name": "stdout",
     "output_type": "stream",
     "text": [
      "covariance =  98.0\n"
     ]
    }
   ],
   "source": [
    "import math\n",
    "\n",
    "x_coordinates = [ 5, 7,  8, 10, 12, 15]\n",
    "y_coordinates = [-4, 5, 10, 20, 70, 75]\n",
    "covariance_temp_sum = 0\n",
    "\n",
    "x_mean = math.fsum(x_coordinates) / len(x_coordinates)\n",
    "y_mean = math.fsum(y_coordinates) / len(y_coordinates)\n",
    "\n",
    "for n in range(len(x_coordinates)):\n",
    "    covariance_temp_sum += (x_coordinates[n] - x_mean) * (y_coordinates[n] - y_mean)\n",
    "\n",
    "covariance = covariance_temp_sum / len(x_coordinates)\n",
    "print('covariance = ', covariance)"
   ]
  },
  {
   "cell_type": "code",
   "execution_count": 2,
   "metadata": {},
   "outputs": [
    {
     "data": {
      "text/plain": [
       "98.0"
      ]
     },
     "execution_count": 2,
     "metadata": {},
     "output_type": "execute_result"
    }
   ],
   "source": [
    "x = [5, 7, 8, 10, 12, 15]\n",
    "y = [-4, 5, 10, 20, 70, 75]\n",
    "mean_x = sum(x) / len(x)\n",
    "mean_y = sum(y) / len(y)\n",
    "\n",
    "sum((a - mean_x) * (b - mean_y) for (a,b) in zip(x,y)) / len(x)"
   ]
  },
  {
   "cell_type": "code",
   "execution_count": null,
   "metadata": {},
   "outputs": [],
   "source": []
  }
 ],
 "metadata": {
  "kernelspec": {
   "display_name": "Python 3",
   "language": "python",
   "name": "python3"
  },
  "language_info": {
   "codemirror_mode": {
    "name": "ipython",
    "version": 3
   },
   "file_extension": ".py",
   "mimetype": "text/x-python",
   "name": "python",
   "nbconvert_exporter": "python",
   "pygments_lexer": "ipython3",
   "version": "3.7.0"
  }
 },
 "nbformat": 4,
 "nbformat_minor": 2
}
