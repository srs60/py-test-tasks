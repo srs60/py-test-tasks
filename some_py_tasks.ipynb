{
 "cells": [
  {
   "cell_type": "markdown",
   "metadata": {},
   "source": [
    "# "
   ]
  },
  {
   "cell_type": "code",
   "execution_count": 5,
   "metadata": {},
   "outputs": [
    {
     "name": "stdout",
     "output_type": "stream",
     "text": [
      "-----> i=   5, Li=  59, h=  41 count=    2\n",
      "-----> i=   7, Li=  65, h=  35 count=    1\n",
      "-----> i=  17, Li=  26, h=  74 count=    2\n",
      "-----> i=  18, Li=  50, h=  50 count=    1\n",
      "-----> i=  25, Li=  63, h=  37 count=    2\n",
      "-----> i=  27, Li=  61, h=  39 count=    3\n",
      "-----> i=  33, Li=  15, h=  85 count=    1\n",
      "-----> i=  36, Li=  33, h=  67 count=    3\n",
      "-----> i=  38, Li=  59, h=  41 count=    2\n",
      "-----> i=  52, Li=  75, h=  25 count=    2\n",
      "-----> i=  55, Li=  39, h=  61 count=    1\n",
      "-----> i=  62, Li=  24, h=  76 count=    1\n",
      "-----> i=  63, Li=  39, h=  61 count=    1\n",
      "-----> i=  66, Li=  43, h=  57 count=    3\n",
      "-----> i=  86, Li=   8, h=  92 count=    1\n",
      "-----> i=  87, Li=  77, h=  23 count=    2\n",
      "-----> i=  90, Li=  96, h=   4 count=    2\n",
      "-----> i=  92, Li=   2, h=  98 count=    1\n",
      "-----> i=  94, Li=  43, h=  57 count=    3\n",
      "-----> i=  96, Li=  77, h=  23 count=    2\n",
      "-----> i=  99, Li=  98, h=   2 count=    1\n",
      "-----> i= 100, Li=  97, h=   3 count=    1\n",
      "-----> i= 103, Li=  15, h=  85 count=    1\n",
      "-----> i= 104, Li=  18, h=  82 count=    2\n",
      "-----> i= 108, Li=  47, h=  53 count=    2\n",
      "-----> i= 111, Li=  60, h=  40 count=    2\n",
      "-----> i= 113, Li=  64, h=  36 count=    1\n",
      "-----> i= 119, Li=  65, h=  35 count=    1\n",
      "-----> i= 125, Li=  93, h=   7 count=    1\n",
      "-----> i= 129, Li=  40, h=  60 count=    1\n",
      "-----> i= 131, Li=  61, h=  39 count=    1\n",
      "-----> i= 132, Li=  53, h=  47 count=    2\n",
      "-----> i= 139, Li=  60, h=  40 count=    1\n",
      "-----> i= 146, Li=  82, h=  18 count=    1\n",
      "-----> i= 156, Li=  47, h=  53 count=    1\n",
      "-----> i= 162, Li=  53, h=  47 count=    1\n",
      "-----> i= 164, Li=  82, h=  18 count=    1\n",
      "-----> i= 172, Li=  83, h=  17 count=    1\n",
      "-----> i= 176, Li=  71, h=  29 count=    2\n",
      "-----> i= 177, Li=   4, h=  96 count=    1\n",
      "-----> i= 205, Li=   8, h=  92 count=    1\n",
      "-----> i= 212, Li=  14, h=  86 count=    1\n",
      "-----> i= 216, Li=   8, h=  92 count=    1\n",
      "-----> i= 227, Li=  96, h=   4 count=    1\n",
      "count of all pairs is  65\n"
     ]
    }
   ],
   "source": [
    "import random\n",
    "\n",
    "cnt = 0\n",
    "Li = [random.randrange(1, 250, 1) for i in range(255)]\n",
    "\n",
    "for i in range(len(Li)):\n",
    "    h = 100 - Li[i]\n",
    "    ccnt = Li[i+1:].count(h)\n",
    "    if  ccnt > 0:\n",
    "        cnt += ccnt\n",
    "        print(f'-----> i={i:4d}, Li={Li[i]:4d}, h={h:4d} count={ccnt:5d}')\n",
    "\n",
    "print('count of all pairs is ',cnt)"
   ]
  },
  {
   "cell_type": "code",
   "execution_count": 2,
   "metadata": {},
   "outputs": [
    {
     "data": {
      "text/plain": [
       "Counter({5: 2, 6: 1, 7: 1, 2: 2, 4: 1, 8: 1, 3: 1})"
      ]
     },
     "execution_count": 2,
     "metadata": {},
     "output_type": "execute_result"
    }
   ],
   "source": [
    "from collections import Counter\n",
    "Counter([5,6,7,2,4,8,5,2,3])"
   ]
  },
  {
   "cell_type": "code",
   "execution_count": 3,
   "metadata": {},
   "outputs": [
    {
     "name": "stdout",
     "output_type": "stream",
     "text": [
      "1\n"
     ]
    }
   ],
   "source": [
    "a = [5,6,7,2,4,8,5,2,3]\n",
    "i = 2\n",
    "print(a[i+1:].count(5))"
   ]
  },
  {
   "cell_type": "code",
   "execution_count": 4,
   "metadata": {},
   "outputs": [
    {
     "name": "stdout",
     "output_type": "stream",
     "text": [
      "[102, 77, 76, 14, 20, 6, 101, 87, 82, 26, 90, 8, 35, 79, 5, 45, 58, 71, 119, 107]\n"
     ]
    }
   ],
   "source": [
    "import random \n",
    "res = [random.randrange(1, 120, 1) for i in range(20)] \n",
    "print(res)"
   ]
  },
  {
   "cell_type": "code",
   "execution_count": null,
   "metadata": {},
   "outputs": [],
   "source": []
  }
 ],
 "metadata": {
  "kernelspec": {
   "display_name": "Python 3",
   "language": "python",
   "name": "python3"
  },
  "language_info": {
   "codemirror_mode": {
    "name": "ipython",
    "version": 3
   },
   "file_extension": ".py",
   "mimetype": "text/x-python",
   "name": "python",
   "nbconvert_exporter": "python",
   "pygments_lexer": "ipython3",
   "version": "3.7.0"
  }
 },
 "nbformat": 4,
 "nbformat_minor": 2
}
