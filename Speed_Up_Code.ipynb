{
 "cells": [
  {
   "cell_type": "markdown",
   "metadata": {},
   "source": [
    "# To Speed Up Your Python Code"
   ]
  },
  {
   "cell_type": "markdown",
   "metadata": {},
   "source": [
    " <div class=\"alert alert-block alert-success\">\n",
    " <b>Задача:</b> \n",
    "    Да се напише функция, която пресмята степен на дадено число, без да се използва built-in функцията за тази цел (pow). Да се оптимизира решението, така че да се получи логаритмично time complexity.\n",
    "\n",
    "</br>\n",
    "\n",
    " <b>Task: </b>\n",
    "     Create a function that calculates the power of a number, without using the built-in function for this purpose (pow). To optimize the solution so as to obtain logarithmic time complexity.\n",
    " </div>"
   ]
  },
  {
   "cell_type": "markdown",
   "metadata": {},
   "source": [
    "Първата версия използва range функция за генерирането на степента\n",
    "\n",
    "The first version uses a range function to generate the degree"
   ]
  },
  {
   "cell_type": "code",
   "execution_count": 1,
   "metadata": {},
   "outputs": [],
   "source": [
    "# version 1 with for/range\n",
    "def mypowF(n,m):\n",
    "    k = 1\n",
    "    if m == 0: return k\n",
    "    if m == 1: return n\n",
    "    \n",
    "    for i in range(1,m+1):\n",
    "        k *= n\n",
    "    return k"
   ]
  },
  {
   "cell_type": "markdown",
   "metadata": {},
   "source": [
    "Втората версия използва `while loop` за генериране на степента\n",
    "\n",
    "The second version uses a `while loop` to generate the degree"
   ]
  },
  {
   "cell_type": "code",
   "execution_count": 2,
   "metadata": {},
   "outputs": [],
   "source": [
    "# version 2 with while\n",
    "def mypowW(n,m):\n",
    "    k = 1\n",
    "    if m == 0: return k\n",
    "    if m == 1: return n\n",
    "    \n",
    "    while m:\n",
    "        k *= n\n",
    "        m -= 1\n",
    "    return k"
   ]
  },
  {
   "cell_type": "markdown",
   "metadata": {},
   "source": [
    "Третата версия използва bin представяне на степента, и вече изчислени произведения на основата `n^2, n^4, n^8` ... с това се постига ускоряване на изчислителния процес и се постига логаритмично time complexity.\n",
    "\n",
    "The third version uses bin representation of the degree, and already calculated products based on `n^2, n^4, n^8` ... thus accelerating the computational process and achieving logarithmic time complexity."
   ]
  },
  {
   "cell_type": "code",
   "execution_count": 3,
   "metadata": {},
   "outputs": [],
   "source": [
    "# verion 3 using m as binary and ready multiplications\n",
    "def mypowB(n,m):\n",
    "    if m == 0: return 1\n",
    "    if m == 1: return n\n",
    "\n",
    "    k = n\n",
    "    if m & 0x1: kk = k\n",
    "    else:       kk = 1\n",
    "    m >>= 1\n",
    "\n",
    "    while m:\n",
    "        k *= k\n",
    "        if m & 0x1: \n",
    "            kk *= k\n",
    "        m >>= 1\n",
    "    return kk"
   ]
  },
  {
   "cell_type": "code",
   "execution_count": 4,
   "metadata": {},
   "outputs": [],
   "source": [
    "# default pow built-in function\n",
    "def mypowPW(n,m):\n",
    "    return pow(n,m)"
   ]
  },
  {
   "cell_type": "markdown",
   "metadata": {},
   "source": [
    "При малки числови стойности на основата и степента, и четирите функции са сравнително приблизително по време на изпълнение.\n",
    "\n",
    "At small numerical values of base and power, all four functions are relatively approximate at runtime."
   ]
  },
  {
   "cell_type": "code",
   "execution_count": 5,
   "metadata": {},
   "outputs": [
    {
     "name": "stdout",
     "output_type": "stream",
     "text": [
      "for    0.09677893298794515\n",
      "while  0.07173325002077036\n",
      "bin    0.05226975600817241\n",
      "pow    0.027416110009653494\n"
     ]
    }
   ],
   "source": [
    "import timeit\n",
    "\n",
    "n,m = 3,11\n",
    "\n",
    "#print('for  ', mypowF(n,m))\n",
    "#print('while', mypowW(n,m))\n",
    "#print('Bin  ', mypowB(n,m))\n",
    "#print('pow  ', mypowPW(n,m))\n",
    "\n",
    "print('for   ',timeit.timeit('mypowF(n,m)', 'from __main__ import mypowF, n, m', number=100000))\n",
    "print('while ',timeit.timeit('mypowW(n,m)', 'from __main__ import mypowW, n, m', number=100000))\n",
    "print('bin   ',timeit.timeit('mypowB(n,m)', 'from __main__ import mypowB, n, m', number=100000))\n",
    "print('pow   ',timeit.timeit('mypowPW(n,m)', 'from __main__ import mypowPW, n, m', number=100000))"
   ]
  },
  {
   "cell_type": "markdown",
   "metadata": {},
   "source": [
    "При големи числови стойности на основата и степента, `for` и `while` версиите рязко увеличават времето за изпълнение (около 15 пъти времето на вградената функция pow), а `bin` версията е най-близо по времето на вградената функция `pow` и то само около 2 пъти повече.\n",
    "\n",
    "With large numeric values of base and power, the `for` and `while` versions dramatically increase the execution time (about 15 times the time of the built-in pow function), and the `bin` version is closest to the time of the built-in pow function and only about 2 times longer."
   ]
  },
  {
   "cell_type": "code",
   "execution_count": 6,
   "metadata": {},
   "outputs": [
    {
     "name": "stdout",
     "output_type": "stream",
     "text": [
      "for    4.649272465991089\n",
      "while  5.135850913997274\n",
      "bin    0.6183191619929858\n",
      "pow    0.35049762300332077\n"
     ]
    }
   ],
   "source": [
    "n,m = 300,444\n",
    "\n",
    "print('for   ',timeit.timeit('mypowF(n,m)', 'from __main__ import mypowF, n, m', number=100000))\n",
    "print('while ',timeit.timeit('mypowW(n,m)', 'from __main__ import mypowW, n, m', number=100000))\n",
    "print('bin   ',timeit.timeit('mypowB(n,m)', 'from __main__ import mypowB, n, m', number=100000))\n",
    "print('pow   ',timeit.timeit('mypowPW(n,m)', 'from __main__ import mypowPW, n, m', number=100000))"
   ]
  },
  {
   "cell_type": "code",
   "execution_count": null,
   "metadata": {},
   "outputs": [],
   "source": []
  }
 ],
 "metadata": {
  "kernelspec": {
   "display_name": "Python 3",
   "language": "python",
   "name": "python3"
  },
  "language_info": {
   "codemirror_mode": {
    "name": "ipython",
    "version": 3
   },
   "file_extension": ".py",
   "mimetype": "text/x-python",
   "name": "python",
   "nbconvert_exporter": "python",
   "pygments_lexer": "ipython3",
   "version": "3.7.0"
  }
 },
 "nbformat": 4,
 "nbformat_minor": 2
}
