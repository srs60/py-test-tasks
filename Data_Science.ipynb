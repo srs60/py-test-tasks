{
 "cells": [
  {
   "cell_type": "markdown",
   "metadata": {},
   "source": [
    "# Data Science -- pandas\n",
    "\n",
    "Please review the attached data file (quote_data_assessment.csv), and provide the code giving the answers to the questions below in a Jupyter Notebook.\n",
    "\n",
    "The bid is the price that a customer can sell at, and the ask is the price that they can buy at.  The spread is the difference between the two (so ask-bid).\n",
    "\n",
    "The size columns provide the maximum amount that the provider is willing to trade on each quote.\n",
    "\n",
    "1. What is the average spread per provider?\n",
    "2. Which provider gives the tightest spread in a single quote, and what is that spread?\n",
    "3. Which provider has the most variable spread?\n",
    "4. Which provider quotes the largest amount on average?\n",
    "5. Which provider sent the highest number of quotes in a single second?\n",
    "6. Provide a plot that summarize some of the main information in this dataset"
   ]
  },
  {
   "cell_type": "code",
   "execution_count": 1,
   "metadata": {},
   "outputs": [],
   "source": [
    "import pandas as pd\n",
    "from datetime import datetime\n",
    "from datetime import timedelta\n",
    "\n",
    "def sort2(sub_list,pos): \n",
    "    sub_list.sort(key = lambda x: x[pos], reverse = True)\n",
    "    return sub_list\n",
    "\n",
    "df = pd.read_csv (r'quote_data_assessment.csv')\n",
    "\n",
    "datalen = len(df) # over 25000+"
   ]
  },
  {
   "cell_type": "code",
   "execution_count": 2,
   "metadata": {},
   "outputs": [
    {
     "name": "stdout",
     "output_type": "stream",
     "text": [
      "Provider1 with average spread = 0.00023 or 2.3 pips\n",
      "Provider3 with average spread = 0.00026 or 2.6 pips\n",
      "Provider2 with average spread = 0.00027 or 2.7 pips\n",
      "Provider4 with average spread = 0.00025 or 2.5 pips\n",
      "\n",
      "Done ... first part\n",
      "\n",
      "[1.1834799999999999, 1.18347, 1.18347, 1.18345, 1.18346]\n",
      "[1.18371, 1.18372, 1.1837, 1.18373, 1.18372]\n",
      "[0.00023, 0.00025, 0.00023, 0.00028, 0.00026]\n"
     ]
    }
   ],
   "source": [
    "data = {}\n",
    "grabid = []\n",
    "graask = []\n",
    "graspread = []\n",
    "\n",
    "for i in range(datalen):\n",
    "    sorig = df.loc[i]['orig']\n",
    "    if  sorig not in data:\n",
    "        data[sorig] = {}\n",
    "        data[sorig][i] = {}\n",
    "    else:\n",
    "        data[sorig][i] = {}\n",
    "\n",
    "    dts = df.loc[i]['date'] + ' ' + df.loc[i]['time'][:8]\n",
    "    data[sorig][i]['timestamp'] = dts\n",
    "    \n",
    "    data[sorig][i]['bid'] = df.loc[i]['bid']\n",
    "    data[sorig][i]['ask'] = df.loc[i]['ask']\n",
    "    spread = float(str(round(df.loc[i]['ask'] - df.loc[i]['bid'], 5)))\n",
    "    data[sorig][i]['spread'] = spread\n",
    "    data[sorig][i]['avramount'] = (df.loc[i]['bid_size'] + df.loc[i]['bid_size']) / 2\n",
    "    \n",
    "    grabid.append(data[sorig][i]['bid'])\n",
    "    graask.append(data[sorig][i]['ask'])\n",
    "    graspread.append(data[sorig][i]['spread'])\n",
    "\n",
    "tightest = ['', 999.9]\n",
    "most_varspr = ['', 0.]\n",
    "highest = []\n",
    "tamount = []\n",
    "\n",
    "for i in data:\n",
    "    temp = [i]\n",
    "    tam = [i]\n",
    "    times = [i]\n",
    "    sp = []\n",
    "    ts = []\n",
    "    avam = []\n",
    "    for n in data[i]:\n",
    "        sp.append(data[i][n]['spread'])\n",
    "        ts.append(data[i][n]['timestamp'])\n",
    "        avam.append(data[i][n]['avramount'])\n",
    "        \n",
    "    temp.append(sp)\n",
    "    times.append(ts)\n",
    "    av = round(sum(temp[1])/len(temp[1]),5)\n",
    "    pmin = min(temp[1])\n",
    "    pmax = max(temp[1])\n",
    "\n",
    "    avm = round(sum(avam)/len(avam),0)\n",
    "    tam.append(avm)\n",
    "    tamount.append(tam)\n",
    "\n",
    "    if tightest[0] == '':\n",
    "        tightest[0] = temp[0]\n",
    "        tightest[1] = pmin\n",
    "    elif tightest[1] > pmin:\n",
    "        tightest[0] = temp[0]\n",
    "        tightest[1] = pmin\n",
    "        \n",
    "    if most_varspr[0] == '':\n",
    "        most_varspr[0] = temp[0]\n",
    "        most_varspr[1] = pmax\n",
    "    elif most_varspr[1] < pmax:\n",
    "        most_varspr[0] = temp[0]\n",
    "        most_varspr[1] = pmax\n",
    "\n",
    "    #1. What is the average spread per provider?'\n",
    "    print(f'{temp[0]} with average spread = {av:.5f} or {av*10000:.1f} pips')\n",
    "\n",
    "    cnt = {}\n",
    "    for c in times[1]:\n",
    "        if c not in cnt:\n",
    "            cnt[c] = 0\n",
    "        cnt[c] += 1\n",
    "    \n",
    "    times_freq = []\n",
    "    for key, value in cnt.items():\n",
    "        times_freq.append([value, key])\n",
    "    times_freq.sort(reverse=True)\n",
    "\n",
    "    times, _ = zip(*times_freq)\n",
    "    total_req = sum(times)\n",
    "    highest.append([temp[0],times[0],total_req,times_freq[:3]])\n",
    "\n",
    "print('\\nDone ... first part\\n')\n",
    "    \n",
    "print(grabid[:5])\n",
    "print(graask[:5])\n",
    "print(graspread[:5])\n"
   ]
  },
  {
   "cell_type": "code",
   "execution_count": 3,
   "metadata": {},
   "outputs": [
    {
     "name": "stdout",
     "output_type": "stream",
     "text": [
      "\n",
      "2. The tightest spread is on Provider1, equal to 0.00020 or 2.0 pips\n",
      "\n",
      "3. The most variable spread is on Provider4, equal to 0.00072 or 7.2 pips\n",
      "\n",
      "4. Which provider quotes the largest amount on average?\n",
      "Provider1 with largest amout on average of 1000000.0\n",
      "Provider4 with largest amout on average of 1000000.0\n",
      "\n",
      "5. Which provider sent the highest number of quotes in a single second:\n",
      "Provider1 sent highest number of 69 quotes in a single second, from 7950 total\n",
      "Provider4 sent highest number of 29 quotes in a single second, from 5982 total\n",
      "Provider3 sent highest number of 27 quotes in a single second, from 6869 total\n",
      "Provider2 sent highest number of 16 quotes in a single second, from 3570 total\n",
      "\n",
      "The first 3 highest numbers of quotes are:\n",
      "Provider1: [[69, '2020-11-17 08:00:48'], [50, '2020-11-17 08:00:16'], [48, '2020-11-17 08:24:55']]\n",
      "Provider4: [[29, '2020-11-17 08:02:16'], [25, '2020-11-17 08:01:48'], [25, '2020-11-17 08:01:43']]\n",
      "Provider3: [[27, '2020-11-17 08:20:39'], [27, '2020-11-17 08:02:16'], [25, '2020-11-17 08:06:55']]\n",
      "Provider2: [[16, '2020-11-17 08:00:48'], [14, '2020-11-17 08:03:19'], [14, '2020-11-17 08:02:16']]\n",
      "\n",
      "Done...\n"
     ]
    }
   ],
   "source": [
    "# ----------------------\n",
    "\n",
    "# 2. Which provider gives the tightest spread in a single quote, and what is that spread?\n",
    "print(f'\\n2. The tightest spread is on {tightest[0]}, equal to {tightest[1]:.5f} or {tightest[1]*10000:.1f} pips')\n",
    "\n",
    "# 3. Which provider has the most variable spread?\n",
    "print(f'\\n3. The most variable spread is on {most_varspr[0]}, equal to {most_varspr[1]:.5f} or {most_varspr[1]*10000:.1f} pips')\n",
    "\n",
    "# 4. Which provider quotes the largest amount on average?\n",
    "print('\\n4. Which provider quotes the largest amount on average?')\n",
    "tamount_sorted = sort2(tamount,1)\n",
    "#print('amount == ',tamount_sorted)\n",
    "#print()\n",
    "avm = 0.\n",
    "for i in range(len(tamount_sorted)):\n",
    "    if tamount_sorted[i][1] >= avm:\n",
    "        print(f'{tamount_sorted[i][0]} with largest amout on average of {tamount_sorted[i][1]}')\n",
    "    avm = tamount_sorted[i][1]\n",
    "\n",
    "# 5. Which provider sent the highest number of quotes in a single second?\n",
    "print('\\n5. Which provider sent the highest number of quotes in a single second:')\n",
    "highest_sorted = sort2(highest,1)\n",
    "\n",
    "for i in range(len(highest)):\n",
    "    print(f'{highest[i][0]} sent highest number of {highest[i][1]} quotes in a single second, from {highest[i][2]} total')\n",
    "print()\n",
    "\n",
    "print('The first 3 highest numbers of quotes are:')\n",
    "for i in range(len(highest)):\n",
    "    print(f'{highest[i][0]}: {highest[i][3]}')\n",
    "\n",
    "\n",
    "print(\"\\nDone...\")"
   ]
  },
  {
   "cell_type": "markdown",
   "metadata": {},
   "source": [
    "### 6. Please provide 2 - 3 plots that summarize some of the main information in this dataset"
   ]
  },
  {
   "cell_type": "code",
   "execution_count": 5,
   "metadata": {},
   "outputs": [
    {
     "data": {
      "image/png": "[encoded data removed]",
      "text/plain": [
       "<Figure size 432x288 with 1 Axes>"
      ]
     },
     "metadata": {
      "needs_background": "light"
     },
     "output_type": "display_data"
    }
   ],
   "source": [
    "from matplotlib import pyplot as plt\n",
    "\n",
    "fig, ax = plt.subplots()\n",
    "\n",
    "ax.plot( grabid,'g', label=\"bid\")\n",
    "ax.plot( graask, 'y', label=\"ask\")\n",
    "\n",
    "plt.legend()\n",
    "plt.title('bid/ask for period')\n",
    "plt.ylabel('bid/ask values')\n",
    "plt.xlabel('date-time period')\n",
    "\n",
    "plt.show()"
   ]
  },
  {
   "cell_type": "code",
   "execution_count": 6,
   "metadata": {},
   "outputs": [],
   "source": [
    "yy = []\n",
    "for i in range(len(highest)):\n",
    "    y = []\n",
    "    y.append(highest[i][0])\n",
    "    y.append(highest[i][1])\n",
    "    y.append(highest[i][2])\n",
    "    yy.append(y)\n",
    "    yy.sort()\n",
    "\n",
    "barqt = [yy[0][1], yy[1][1], yy[2][1], yy[3][1]]\n",
    "bartotal = [yy[0][2], yy[1][2], yy[2][2], yy[3][2]]"
   ]
  },
  {
   "cell_type": "code",
   "execution_count": 7,
   "metadata": {},
   "outputs": [
    {
     "data": {
      "text/plain": [
       "<function matplotlib.pyplot.show(*args, **kw)>"
      ]
     },
     "execution_count": 7,
     "metadata": {},
     "output_type": "execute_result"
    },
    {
     "data": {
      "image/png": "[encoded data removed]",
      "text/plain": [
       "<Figure size 432x288 with 2 Axes>"
      ]
     },
     "metadata": {
      "needs_background": "light"
     },
     "output_type": "display_data"
    }
   ],
   "source": [
    "from matplotlib import pyplot as plt\n",
    "\n",
    "x = [1,2,3,4]  # Providers\n",
    "\n",
    "plt.subplot(221)\n",
    "plt.bar(x, barqt, label='qtpsec', color='b')\n",
    "\n",
    "plt.subplot(222)\n",
    "plt.bar(x, bartotal, label='total', color='m')\n",
    "\n",
    "plt.show"
   ]
  },
  {
   "cell_type": "code",
   "execution_count": null,
   "metadata": {},
   "outputs": [],
   "source": []
  }
 ],
 "metadata": {
  "kernelspec": {
   "display_name": "Python 3",
   "language": "python",
   "name": "python3"
  },
  "language_info": {
   "codemirror_mode": {
    "name": "ipython",
    "version": 3
   },
   "file_extension": ".py",
   "mimetype": "text/x-python",
   "name": "python",
   "nbconvert_exporter": "python",
   "pygments_lexer": "ipython3",
   "version": "3.7.0"
  }
 },
 "nbformat": 4,
 "nbformat_minor": 2
}
