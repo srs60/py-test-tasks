{
 "cells": [
  {
   "cell_type": "markdown",
   "metadata": {},
   "source": [
    "# HackerRank tests\n",
    "[Practice > Python](https://www.hackerrank.com/domains/python)"
   ]
  },
  {
   "cell_type": "markdown",
   "metadata": {},
   "source": [
    "## Intro demo test\n",
    "\n",
    "Given  a number n, for each integer i in the range from 1 to n inclusive, print one value per line as follows:\n",
    "\n",
    "    - if i is multiple of both 3 and 5,  print FizzBuzz\n",
    "    - if i is multiple of 3 (but not 5), print Fizz\n",
    "    - if i is multiple of 5 (but not 3), print Buzz\n",
    "    - if i is not multiple of 3 and 5, print the value of i"
   ]
  },
  {
   "cell_type": "code",
   "execution_count": null,
   "metadata": {},
   "outputs": [],
   "source": [
    "def fizzBuzz(n):\n",
    "    # Write your code here\n",
    "    if not(i % 3) and not(i % 5):\n",
    "        print(i,'FizzBuzz')\n",
    "    elif not(i % 3):\n",
    "        print(i,'Fizz')\n",
    "    elif not(i % 5):\n",
    "        print(i,'Buzz')\n",
    "    else:\n",
    "        print(i)\n",
    "    \n",
    "if __name__ == '__main__':\n",
    "\n",
    "    for i in range(1,35):\n",
    "        fizzBuzz(i)"
   ]
  },
  {
   "cell_type": "markdown",
   "metadata": {},
   "source": [
    "# 1. Common Prefix Length\n",
    "\n",
    "Given a string, split the string into two substrings at every possible point. The rightmost substring is a _suffix_. The beginning of the string is the _prefix_. Determine the lengths of the common  prefix between aech suffix and the original string. Sun and return the lengths of the common prefixes. Return an array where  each element _i_ is the sum for string _i_.\n",
    "\n",
    "__Example__\n",
    "Consider the only string in the array inputs=['abcabcd']. Each suffix is compared to the original string\n",
    "\n",
    "| The suffix | Sufix | Prefix | Length |\n",
    "| -: | :- | :- | :-: |\n",
    "| \"\" | \"abcabcd\" | \"abcabcd\" | 7 |\n",
    "|\"a\" | \"bcabcd\" | \"\" | 0 |\n",
    "|\"ab\" | \"cabcd\" | \"\" | 0 |\n",
    "|\"abc\" | \"abcd\" | \"abc\" | 3 |\n",
    "|\"abca\" | \"bcd\" | \"\" | 0 |\n",
    "|\"abcab\" | \"cd\" | \"\" | 0 |\n",
    "|\"abcabc\" | \"d\" | \"\" | 0 |\n",
    "\n"
   ]
  },
  {
   "cell_type": "code",
   "execution_count": null,
   "metadata": {},
   "outputs": [],
   "source": [
    "import array as arr\n",
    "\n",
    "def commonPrefix(inputs):\n",
    "    res = arr.array('i',[])\n",
    "    for k in inputs:\n",
    "        sum = 0\n",
    "        lnk = len(k)    \n",
    "        for i in range(lnk):\n",
    "            pfix = k\n",
    "            sfix = k[i:]\n",
    "            while sfix[:len(pfix)] != pfix and pfix: \n",
    "                pfix = pfix[:len(pfix)-1] \n",
    "            sum += len(pfix)\n",
    "\n",
    "        res.append(sum)\n",
    "\n",
    "    return res"
   ]
  },
  {
   "cell_type": "code",
   "execution_count": null,
   "metadata": {},
   "outputs": [],
   "source": [
    "test1 = [3,'abcabcd','ababaa','aa']  # [10, 11, 3]\n",
    "\n",
    "test2 = [10,\n",
    "    'aacbdbaaeaa',\n",
    "    'daaeddceddaccbebceccdacc',\n",
    "    'baeeddbaeebbaeebcdedade',\n",
    "    'ceebeedcdcadbbcaeeddabcecaeabdceebcdcaabadebbedaddaabdedaadcdadeeadbdae',\n",
    "    'bdbabdaceadeaceacdbdbaeeaacdaeddccdaadcbddaaacdeabeeddaeeecbdceaeeaceddebbcd',\n",
    "    'c',\n",
    "    'cbbcbabaeedeadabbcaedacecceeeecdddbebeccbabbbcdcbadecaabc',\n",
    "    'ddcebdcaebcdeaadbedacddcbaeccdacbcbccaedeecdeebcdeeadcebcbabe',\n",
    "    'aaeecedbdeaeaeaeccdeccbdbcdedbaabbeaaebbebabccbeebbbeceabaabdcbedaeaedbabbceeaaabbccadddaae',\n",
    "    'aeccecceeeacdeddcecddebbebcebcddccbbaacbbcd'    \n",
    "]  # [18. 31, 33, 84,91,1,72,75,120,46]\n",
    "\n",
    "test3 = [10,\n",
    "    'eabdcbbeeedbdaebdedbcbdcdeeaebbdbedbdbccbaaeababba',\n",
    "    'bcdedeccaabdaebdddaeedabedccdddccbbaaadcbbabccbaadbbbeddecacddbababbabadcbbbacecdaee',\n",
    "    'edbcdecbaebdccedcdbebbbadebcbcbcdaedecebbdeaaadeaedcccebdcabcceccdad',\n",
    "    'adebebcebeebdbddecaadceceddbbdadeeaddeebddcccbabacdd',\n",
    "    'dbcbabbabc',\n",
    "    'ce',\n",
    "    'cbaadedaddcbdebbdaedbdd',\n",
    "    'ebdbeadacadcdaabcdaeedcaaaddadabadeeaabdaeabeccdaeccabea',\n",
    "    'aadacaedbedcebdbcedeebbedbaedbddbdadaeebbcaad',\n",
    "    'aeccbdaadbcebddbadbaedeceedbcdaaadcbdebecaddedebccdbadaeed'\n",
    "]  # [63,105,84,62,10,2,25,65,55,70]\n",
    "\n",
    "tests = [test1, test2, test3]\n",
    "\n",
    "if __name__ == '__main__':\n",
    "\n",
    "    for test in tests:\n",
    "        result = commonPrefix(test[1:])\n",
    "        print(result)\n",
    "\n",
    "# Output:\n",
    "# [10, 11, 3]\n",
    "# [18. 31, 33, 84,91,1,72,75,120,46]\n",
    "# [63,105,84,62,10,2,25,65,55,70]"
   ]
  },
  {
   "cell_type": "markdown",
   "metadata": {},
   "source": [
    "# 2. Find Debts Groups\n",
    "A group is set up in which debts are exchanged, and everyone can give and receive loans from the other participants. The input data is in the form of a table of three columns. The first column is the name of the borrower, the second column is the name of the lender, and the third column is the loan amount.\n",
    "\n",
    "|borrower|lender|amount|\n",
    "|---|---|---|\n",
    "|\"Alex\"|\"Black\"|'4'|\n",
    "|\"Black\"|\"Tom\"|'2'|\n",
    "|\"Alex\"|\"Tom\"|'4'|\n",
    "|\"Caley\"|\"Alex\"|'3'|\n",
    "|\"Tom\"|\"Caley\"|'2'|\n",
    "\n",
    "As a result, the amounts for each of the groups are summed, and the result can be positive or negative.\n",
    "At the end, the data for all is sorted and printed only the man with maximum obligation."
   ]
  },
  {
   "cell_type": "code",
   "execution_count": null,
   "metadata": {},
   "outputs": [],
   "source": [
    "def findDebtsGroups(debts):\n",
    "    \n",
    "    n = len(debts)\n",
    "    names = {}\n",
    "    \n",
    "    for i in range(n):\n",
    "        nam1 = debts[i][0]\n",
    "        nam2 = debts[i][1]\n",
    "        amnt = int(debts[i][2])\n",
    "\n",
    "        if nam1 in names:\n",
    "            names[nam1] -= amnt\n",
    "        else:\n",
    "            names[nam1] = -amnt\n",
    "            \n",
    "        if nam2 in names:\n",
    "            names[nam2] += amnt\n",
    "        else:\n",
    "            names[nam2] = amnt\n",
    "\n",
    "    res = sorted(names.items(), key=lambda x: x[1])\n",
    "    print('All debts == ',res)\n",
    "\n",
    "    if res[0][1] >= 0:\n",
    "        print(\"Nobody has a negative obligation\")\n",
    "    else:\n",
    "        for i in range(len(res)):\n",
    "            if res[i][1] > 0:\n",
    "                lst = i\n",
    "                break\n",
    "        \n",
    "        pres = [res[0][0]]\n",
    "\n",
    "        for i in range(1,lst):\n",
    "            if res[i][1] > res[0][1]:\n",
    "                break\n",
    "            pres.append(res[i][0])\n",
    "\n",
    "        print('The biggest obligation: ',pres)\n",
    "    "
   ]
  },
  {
   "cell_type": "code",
   "execution_count": null,
   "metadata": {},
   "outputs": [],
   "source": [
    "if __name__ == \"__main__\":\n",
    "\n",
    "    db = [\n",
    "        [\"Alex\", \"Black\", '4'],\n",
    "        [\"Black\", \"Tom\", '2'],\n",
    "        [\"Alex\", \"Tom\", '4'],\n",
    "        [\"Caley\", \"Alex\", '3'],\n",
    "        [\"Tom\", \"Caley\", '2']\n",
    "    ]\n",
    "\n",
    "    findDebtsGroups(db)"
   ]
  },
  {
   "cell_type": "code",
   "execution_count": null,
   "metadata": {},
   "outputs": [],
   "source": []
  }
 ],
 "metadata": {
  "kernelspec": {
   "display_name": "Python 3",
   "language": "python",
   "name": "python3"
  },
  "language_info": {
   "codemirror_mode": {
    "name": "ipython",
    "version": 3
   },
   "file_extension": ".py",
   "mimetype": "text/x-python",
   "name": "python",
   "nbconvert_exporter": "python",
   "pygments_lexer": "ipython3",
   "version": "3.7.0"
  }
 },
 "nbformat": 4,
 "nbformat_minor": 2
}
