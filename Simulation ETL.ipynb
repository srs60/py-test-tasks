{
 "cells": [
  {
   "cell_type": "markdown",
   "metadata": {},
   "source": [
    "## Simulation ETL\n",
    "\n",
    "Create json:\n",
    "\n",
    "    {\"key\": \"A123\", \"value\":\"15.6\", \"ts\":'2020-10-07 13:28:43.399620+02:00'}"
   ]
  },
  {
   "cell_type": "code",
   "execution_count": null,
   "metadata": {},
   "outputs": [],
   "source": [
    "import string\n",
    "import random as rnd\n",
    "from datetime import datetime\n",
    "import pytz\n",
    "\n",
    "for i in range(2):\n",
    "    \n",
    "    keystr = ''.join(rnd.choices(string.ascii_uppercase, k=1))\n",
    "    numstr = ''.join(rnd.choices(string.digits, k=3))\n",
    "    \n",
    "    valstr = str(round(rnd.uniform(10,100),1))\n",
    "\n",
    "    tz = pytz.timezone('Europe/Sofia')\n",
    "    tzstr = str(datetime.now(tz))\n",
    "    \n",
    "    print(\"combo: \", keystr+numstr,valstr,tzstr)\n"
   ]
  },
  {
   "cell_type": "code",
   "execution_count": null,
   "metadata": {},
   "outputs": [],
   "source": [
    "import json\n",
    "import string\n",
    "import random as rnd\n",
    "from datetime import datetime\n",
    "import pytz\n",
    "\n",
    "for i in range(2):\n",
    "    keystr = ''.join(rnd.choices(string.ascii_uppercase, k=1))\n",
    "    numstr = ''.join(rnd.choices(string.digits, k=3))\n",
    "    \n",
    "    valstr = str(round(rnd.uniform(10,100),1))\n",
    "\n",
    "    tz = pytz.timezone('Europe/Sofia')\n",
    "    tzstr = str(datetime.now(tz))\n",
    "    \n",
    "    print(keystr+numstr,valstr,tzstr)\n",
    "    \n",
    "    dstr = {}\n",
    "    dstr['key'] = keystr+numstr\n",
    "    dstr['val'] = valstr\n",
    "    dstr['tz']  = tzstr\n",
    "\n",
    "    jsn = json.dumps(dstr)\n",
    "    print(jsn)"
   ]
  },
  {
   "cell_type": "code",
   "execution_count": null,
   "metadata": {},
   "outputs": [],
   "source": [
    "def simulation():\n",
    "    '''Simulation generator'''\n",
    "    keystr = ''.join(rnd.choice(string.ascii_uppercase))\n",
    "    numstr = ''.join(rnd.choice(string.digits) for i in range(3))\n",
    "    valstr = str(round(rnd.uniform(10,100),1))\n",
    "    tz = pytz.timezone('Europe/Sofia')\n",
    "    tzstr = str(datetime.now(tz))\n",
    "\n",
    "    dstr = {}\n",
    "    dstr['key'] = keystr + numstr\n",
    "    dstr['value'] = valstr\n",
    "    dstr['ts']  = tzstr\n",
    "\n",
    "    jsn_mssg = json.dumps(dstr) + '\\n'\n",
    "\n",
    "    return jsn_mssg"
   ]
  },
  {
   "cell_type": "code",
   "execution_count": null,
   "metadata": {},
   "outputs": [],
   "source": [
    "print(simulation())"
   ]
  },
  {
   "cell_type": "markdown",
   "metadata": {},
   "source": [
    "{\"key\": \"A123\", \"value\":\"15.6\", \"ts\":'2020-10-07 13:28:43.399620+02:00'}"
   ]
  },
  {
   "cell_type": "code",
   "execution_count": null,
   "metadata": {},
   "outputs": [],
   "source": [
    "file_mssg = \"file_mssg.txt\""
   ]
  },
  {
   "cell_type": "code",
   "execution_count": null,
   "metadata": {},
   "outputs": [],
   "source": [
    "%%writefile file_mssg.txt\n",
    "{\"key\": \"H620\", \"value\": \"87.4\", \"ts\": \"2020-10-20 18:39:19.283339+03:00\"}\n",
    "{\"key\": \"O702\", \"value\": \"34.8\", \"ts\": \"2020-10-20 18:39:19.284351+03:00\"}\n",
    "{\"key\": \"C562\", \"value\": \"18.0\", \"ts\": \"2020-10-20 18:39:19.284808+03:00\"}\n",
    "{\"key\": \"S093\", \"value\": \"64.5\", \"ts\": \"2020-10-20 18:39:19.285214+03:00\"}\n",
    "{\"key\": \"S688\", \"value\": \"94.8\", \"ts\": \"2020-10-20 18:39:19.285652+03:00\"}\n",
    "{\"key\": \"B097\", \"value\": \"45.0\", \"ts\": \"2020-10-20 18:39:19.286163+03:00\"}\n",
    "{\"key\": \"Z009\", \"value\": \"22.4\", \"ts\": \"2020-10-20 18:39:19.286618+03:00\"}\n",
    "{\"key\": \"N467\", \"value\": \"25.5\", \"ts\": \"2020-10-20 18:39:19.287057+03:00\"}\n",
    "{\"key\": \"G679\", \"value\": \"35.3\", \"ts\": \"2020-10-20 18:39:19.477187+03:00\"}\n",
    "{\"key\": \"L859\", \"value\": \"72.0\", \"ts\": \"2020-10-20 18:39:19.477584+03:00\"}\n",
    "{\"key\": \"M192\", \"value\": \"69.2\", \"ts\": \"2020-10-20 18:39:19.477835+03:00\"}\n",
    "{\"key\": \"Y177\", \"value\": \"26.5\", \"ts\": \"2020-10-20 18:39:19.477993+03:00\"}\n",
    "{\"key\": \"E908\", \"value\": \"24.3\", \"ts\": \"2020-10-20 18:39:19.478141+03:00\"}\n",
    "{\"key\": \"M075\", \"value\": \"76.9\", \"ts\": \"2020-10-20 18:39:19.478388+03:00\"}\n",
    "{\"key\": \"G641\", \"value\": \"36.3\", \"ts\": \"2020-10-20 18:39:19.478668+03:00\"}\n",
    "{\"key\": \"N186\", \"value\": \"99.4\", \"ts\": \"2020-10-20 18:39:19.478829+03:00\"}"
   ]
  },
  {
   "cell_type": "code",
   "execution_count": null,
   "metadata": {},
   "outputs": [],
   "source": [
    "f = open(file_mssg,'r')\n",
    "lines = f.readlines()\n",
    "mssg = lines[0]\n",
    "f = open(file_mssg,'w')\n",
    "f.writelines(lines[1:])\n",
    "f.close()\n",
    "\n",
    "print(\"mssg: \",mssg)\n",
    "print()\n",
    "lines = []\n",
    "f = open(file_mssg,'r')\n",
    "lines = f.readlines()\n",
    "print(\"lines: \",lines)"
   ]
  },
  {
   "cell_type": "code",
   "execution_count": null,
   "metadata": {},
   "outputs": [],
   "source": []
  },
  {
   "cell_type": "code",
   "execution_count": null,
   "metadata": {},
   "outputs": [],
   "source": [
    "import sqlalchemy\n",
    "#from sqlalchemy import create_engine\n",
    "\n",
    "# Postgres username, password, and database name\n",
    "POSTGRES_ADDRESS = 'db.panoply.io' ## INSERT YOUR DB ADDRESS IF IT'S NOT ON PANOPLY\n",
    "POSTGRES_PORT = '5439'\n",
    "\n",
    "POSTGRES_USERNAME = 'username'  ## CHANGE THIS TO YOUR PANOPLY/POSTGRES USERNAME\n",
    "POSTGRES_PASSWORD = '12345'     ## CHANGE THIS TO YOUR PANOPLY/POSTGRES PASSWORD POSTGRES_DBNAME = 'database' \n",
    "                                ## CHANGE THIS TO YOUR DATABASE NAME\n",
    "\n",
    "POSTGRES_DBNAME = 'BLA.BLA'\n",
    "\n",
    "# A long string that contains the necessary Postgres login information\n",
    "postgres_str = (\n",
    "    'postgresql://{username}:{password}@{ipaddress}:{port}/{dbname}'.format(\n",
    "    username=POSTGRES_USERNAME,\n",
    "    password=POSTGRES_PASSWORD,\n",
    "    ipaddress=POSTGRES_ADDRESS,\n",
    "    port=POSTGRES_PORT,\n",
    "    dbname=POSTGRES_DBNAME\n",
    "    ))\n",
    "\n",
    "print(postgres_str)\n",
    "\n",
    "# Create the connection\n",
    "#cnx = create_engine(postgres_str) "
   ]
  },
  {
   "cell_type": "code",
   "execution_count": null,
   "metadata": {},
   "outputs": [],
   "source": [
    "conn = psycopg2.connect(\n",
    "    \"dbname=suppliers user=postgres password=postgres\"\n",
    ")"
   ]
  },
  {
   "cell_type": "code",
   "execution_count": null,
   "metadata": {},
   "outputs": [],
   "source": [
    "conn = psycopg2.connect(\n",
    "    host=\"localhost\",\n",
    "    database=\"suppliers\",\n",
    "    user=\"postgres\",\n",
    "    password=\"Abcd1234\"\n",
    ")"
   ]
  },
  {
   "cell_type": "code",
   "execution_count": null,
   "metadata": {},
   "outputs": [],
   "source": []
  }
 ],
 "metadata": {
  "kernelspec": {
   "display_name": "Python 3",
   "language": "python",
   "name": "python3"
  },
  "language_info": {
   "codemirror_mode": {
    "name": "ipython",
    "version": 3
   },
   "file_extension": ".py",
   "mimetype": "text/x-python",
   "name": "python",
   "nbconvert_exporter": "python",
   "pygments_lexer": "ipython3",
   "version": "3.7.0"
  }
 },
 "nbformat": 4,
 "nbformat_minor": 2
}
