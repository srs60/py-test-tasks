{
 "cells": [
  {
   "cell_type": "markdown",
   "metadata": {},
   "source": [
    "# Currency Converter"
   ]
  },
  {
   "cell_type": "markdown",
   "metadata": {},
   "source": [
    "**The problem:**\n",
    "\n",
    "We have to implement a currency converter. \n",
    "The input consists of pairs of currencies A -> B and the rate to convert A to B.\n",
    "\n",
    "The task is to implement the following function:\n",
    "\n",
    "**convert(from, to, amount)**\n",
    "\n",
    "For requests for which the rate is not specified a rate should be calculated using intermediate currencies.\n",
    "\n",
    "**Example:**\n",
    "\n",
    "**Input data:**\n",
    "- USD -> EUR, 0.87661\n",
    "- EUR -> BGN, 1.95583\n",
    "- BGN -> GBP, 0.44\n",
    "\n",
    "**Example outputs:**\n",
    "- convert(USD, EUR, 10) returns 10 * 0.87661 = 8.7661\n",
    "- convert(USD, BGN, 10) returns 10 * 0.87661 * 1.95583 = 17.145"
   ]
  },
  {
   "cell_type": "code",
   "execution_count": 38,
   "metadata": {},
   "outputs": [],
   "source": [
    "crrntab = [\n",
    "            ('USD', 'EUR', 0.87661),\n",
    "            ('EUR', 'BGN', 1.95583),\n",
    "            ('BGN', 'GBP', 0.44),\n",
    "            ('USD', 'CHF', 0.89)\n",
    "        ]\n",
    "BASE = 'EUR'\n",
    "\n",
    "def setup_basetab():\n",
    "    global cdict \n",
    "    cdict = {}\n",
    "    for st in crrntab:\n",
    "        if st[0] == BASE:\n",
    "            cdict[st[1]] = st[2]\n",
    "        elif st[1] == BASE:\n",
    "            cdict[st[0]] = 1 / st[2]\n",
    "        else:\n",
    "            for key in cdict:\n",
    "                if st[0] == key:\n",
    "                    cdict[st[1]] = st[2] * cdict[key]\n",
    "                    break\n",
    "                elif st[1] == key:\n",
    "                    cdict[st[0]] = cdict[key] / st[2]\n",
    "                    break\n"
   ]
  },
  {
   "cell_type": "code",
   "execution_count": 39,
   "metadata": {},
   "outputs": [],
   "source": [
    "def convert(cIn, cOut, amount):\n",
    "    if cIn == BASE and (cOut in cdict):\n",
    "        result = round(amount * cdict[cOut],5)\n",
    "        print(f'{amount} {cIn} = {result} {cOut}')\n",
    "        return result\n",
    "    elif cOut == BASE and (cIn in cdict):\n",
    "        result = round(amount / cdict[cIn],5)\n",
    "        print(f'{amount} {cIn} = {result} {cOut}')\n",
    "        return result\n",
    "    else:\n",
    "        for key1 in cdict:\n",
    "            if cIn == key1:\n",
    "                for key2 in cdict:\n",
    "                    if cOut == key2:\n",
    "                        result = round(amount * cdict[key2]/cdict[key1],5)\n",
    "                        print(f'{amount} {cIn} = {result} {cOut}')\n",
    "                        return result\n",
    "\n",
    "            elif cOut == key1:\n",
    "                for key2 in cdict:\n",
    "                    if cIn == key2:\n",
    "                        result = round(amount * cdict[key1]/cdict[key2],5)\n",
    "                        print(f'{amount} {cIn} = {result} {cOut}')\n",
    "                        return result\n",
    "            else:\n",
    "                print(f'{cIn}, {cOut} -- No data for these currencies!')\n",
    "                return -1"
   ]
  },
  {
   "cell_type": "code",
   "execution_count": 41,
   "metadata": {},
   "outputs": [
    {
     "name": "stdout",
     "output_type": "stream",
     "text": [
      "10 USD = 8.7661 EUR\n",
      "10 USD = 17.145 BGN\n",
      "USD, JPY -- No data for these currencies!\n"
     ]
    }
   ],
   "source": [
    "if __name__ == \"__main__\":\n",
    "    setup_basetab()\n",
    "    #print(f'{BASE} : {cdict}')\n",
    "\n",
    "    convert('USD', 'EUR', 10) # 10 USD = 11.40758147865071 EUR\n",
    "    convert('USD', 'BGN', 10) # 10 USD = 17.145001363000002 BGN\n",
    "    convert('USD', 'JPY', 10) # No data for currency converter"
   ]
  },
  {
   "cell_type": "code",
   "execution_count": null,
   "metadata": {},
   "outputs": [],
   "source": []
  }
 ],
 "metadata": {
  "kernelspec": {
   "display_name": "Python 3",
   "language": "python",
   "name": "python3"
  },
  "language_info": {
   "codemirror_mode": {
    "name": "ipython",
    "version": 3
   },
   "file_extension": ".py",
   "mimetype": "text/x-python",
   "name": "python",
   "nbconvert_exporter": "python",
   "pygments_lexer": "ipython3",
   "version": "3.7.0"
  }
 },
 "nbformat": 4,
 "nbformat_minor": 2
}
